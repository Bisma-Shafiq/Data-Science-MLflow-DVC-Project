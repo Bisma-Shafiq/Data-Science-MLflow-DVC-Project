{
  "cells": [
    {
      "cell_type": "code",
      "execution_count": 2,
      "metadata": {
        "id": "V-WAM-U1CRU0"
      },
      "outputs": [],
      "source": [
        "import pandas as pd\n",
        "import numpy as np\n",
        "import matplotlib.pyplot as plt\n",
        "import seaborn as sns\n",
        "import warnings\n",
        "warnings.filterwarnings('ignore')"
      ]
    },
    {
      "cell_type": "code",
      "execution_count": 3,
      "metadata": {
        "colab": {
          "base_uri": "https://localhost:8080/",
          "height": 275
        },
        "id": "mbNZ94gZD4lF",
        "outputId": "dee4bd44-dacd-46e8-b0ea-f7b4f8d91aff"
      },
      "outputs": [
        {
          "data": {
            "text/html": [
              "<div>\n",
              "<style scoped>\n",
              "    .dataframe tbody tr th:only-of-type {\n",
              "        vertical-align: middle;\n",
              "    }\n",
              "\n",
              "    .dataframe tbody tr th {\n",
              "        vertical-align: top;\n",
              "    }\n",
              "\n",
              "    .dataframe thead th {\n",
              "        text-align: right;\n",
              "    }\n",
              "</style>\n",
              "<table border=\"1\" class=\"dataframe\">\n",
              "  <thead>\n",
              "    <tr style=\"text-align: right;\">\n",
              "      <th></th>\n",
              "      <th>car_name</th>\n",
              "      <th>Year</th>\n",
              "      <th>fuel_type</th>\n",
              "      <th>transmission</th>\n",
              "      <th>owner</th>\n",
              "      <th>Selling Price</th>\n",
              "    </tr>\n",
              "  </thead>\n",
              "  <tbody>\n",
              "    <tr>\n",
              "      <th>0</th>\n",
              "      <td>Jeep Compass 2.0 Longitude Option BSIV</td>\n",
              "      <td>2017</td>\n",
              "      <td>Diesel</td>\n",
              "      <td>Manual</td>\n",
              "      <td>1</td>\n",
              "      <td>10.03</td>\n",
              "    </tr>\n",
              "    <tr>\n",
              "      <th>1</th>\n",
              "      <td>Renault Duster RXZ Turbo CVT</td>\n",
              "      <td>2021</td>\n",
              "      <td>Petrol</td>\n",
              "      <td>Automatic</td>\n",
              "      <td>1</td>\n",
              "      <td>12.83</td>\n",
              "    </tr>\n",
              "    <tr>\n",
              "      <th>2</th>\n",
              "      <td>Toyota Camry 2.5 G</td>\n",
              "      <td>2016</td>\n",
              "      <td>Petrol</td>\n",
              "      <td>Automatic</td>\n",
              "      <td>1</td>\n",
              "      <td>16.40</td>\n",
              "    </tr>\n",
              "    <tr>\n",
              "      <th>3</th>\n",
              "      <td>Honda Jazz VX CVT</td>\n",
              "      <td>2018</td>\n",
              "      <td>Petrol</td>\n",
              "      <td>Automatic</td>\n",
              "      <td>1</td>\n",
              "      <td>7.77</td>\n",
              "    </tr>\n",
              "    <tr>\n",
              "      <th>4</th>\n",
              "      <td>Volkswagen Polo 1.2 MPI Highline</td>\n",
              "      <td>2016</td>\n",
              "      <td>Petrol</td>\n",
              "      <td>Manual</td>\n",
              "      <td>1</td>\n",
              "      <td>5.15</td>\n",
              "    </tr>\n",
              "  </tbody>\n",
              "</table>\n",
              "</div>"
            ],
            "text/plain": [
              "                                 car_name  Year fuel_type transmission  owner  \\\n",
              "0  Jeep Compass 2.0 Longitude Option BSIV  2017    Diesel       Manual      1   \n",
              "1            Renault Duster RXZ Turbo CVT  2021    Petrol    Automatic      1   \n",
              "2                      Toyota Camry 2.5 G  2016    Petrol    Automatic      1   \n",
              "3                       Honda Jazz VX CVT  2018    Petrol    Automatic      1   \n",
              "4        Volkswagen Polo 1.2 MPI Highline  2016    Petrol       Manual      1   \n",
              "\n",
              "   Selling Price  \n",
              "0          10.03  \n",
              "1          12.83  \n",
              "2          16.40  \n",
              "3           7.77  \n",
              "4           5.15  "
            ]
          },
          "execution_count": 3,
          "metadata": {},
          "output_type": "execute_result"
        }
      ],
      "source": [
        "dataset = pd.read_csv(\"data/raw_data.csv\")\n",
        "dataset.head()"
      ]
    },
    {
      "cell_type": "code",
      "execution_count": 4,
      "metadata": {
        "colab": {
          "base_uri": "https://localhost:8080/",
          "height": 272
        },
        "id": "iI14jsdZE4Dq",
        "outputId": "5603b204-9e91-4c13-c65d-645c83159905"
      },
      "outputs": [
        {
          "data": {
            "text/plain": [
              "car_name         0\n",
              "Year             0\n",
              "fuel_type        0\n",
              "transmission     0\n",
              "owner            0\n",
              "Selling Price    0\n",
              "dtype: int64"
            ]
          },
          "execution_count": 4,
          "metadata": {},
          "output_type": "execute_result"
        }
      ],
      "source": [
        "dataset.isnull().sum()"
      ]
    },
    {
      "cell_type": "code",
      "execution_count": 5,
      "metadata": {
        "colab": {
          "base_uri": "https://localhost:8080/"
        },
        "id": "qTgUeEkeFHlm",
        "outputId": "6b2a6280-fc7e-4370-86d8-2f2c96f981c6"
      },
      "outputs": [
        {
          "name": "stdout",
          "output_type": "stream",
          "text": [
            "<class 'pandas.core.frame.DataFrame'>\n",
            "RangeIndex: 5512 entries, 0 to 5511\n",
            "Data columns (total 6 columns):\n",
            " #   Column         Non-Null Count  Dtype  \n",
            "---  ------         --------------  -----  \n",
            " 0   car_name       5512 non-null   object \n",
            " 1   Year           5512 non-null   int64  \n",
            " 2   fuel_type      5512 non-null   object \n",
            " 3   transmission   5512 non-null   object \n",
            " 4   owner          5512 non-null   int64  \n",
            " 5   Selling Price  5512 non-null   float64\n",
            "dtypes: float64(1), int64(2), object(3)\n",
            "memory usage: 258.5+ KB\n"
          ]
        }
      ],
      "source": [
        "dataset.info()"
      ]
    },
    {
      "cell_type": "code",
      "execution_count": 6,
      "metadata": {
        "colab": {
          "base_uri": "https://localhost:8080/",
          "height": 300
        },
        "id": "gkj7y0HJFVum",
        "outputId": "06f8a86c-a4bd-4d07-b58d-02fa1aac8218"
      },
      "outputs": [
        {
          "data": {
            "text/html": [
              "<div>\n",
              "<style scoped>\n",
              "    .dataframe tbody tr th:only-of-type {\n",
              "        vertical-align: middle;\n",
              "    }\n",
              "\n",
              "    .dataframe tbody tr th {\n",
              "        vertical-align: top;\n",
              "    }\n",
              "\n",
              "    .dataframe thead th {\n",
              "        text-align: right;\n",
              "    }\n",
              "</style>\n",
              "<table border=\"1\" class=\"dataframe\">\n",
              "  <thead>\n",
              "    <tr style=\"text-align: right;\">\n",
              "      <th></th>\n",
              "      <th>Year</th>\n",
              "      <th>owner</th>\n",
              "      <th>Selling Price</th>\n",
              "    </tr>\n",
              "  </thead>\n",
              "  <tbody>\n",
              "    <tr>\n",
              "      <th>count</th>\n",
              "      <td>5512.000000</td>\n",
              "      <td>5512.000000</td>\n",
              "      <td>5512.000000</td>\n",
              "    </tr>\n",
              "    <tr>\n",
              "      <th>mean</th>\n",
              "      <td>2015.455552</td>\n",
              "      <td>1.421807</td>\n",
              "      <td>1700.984784</td>\n",
              "    </tr>\n",
              "    <tr>\n",
              "      <th>std</th>\n",
              "      <td>3.927974</td>\n",
              "      <td>0.703092</td>\n",
              "      <td>11471.329530</td>\n",
              "    </tr>\n",
              "    <tr>\n",
              "      <th>min</th>\n",
              "      <td>1995.000000</td>\n",
              "      <td>0.000000</td>\n",
              "      <td>1.000000</td>\n",
              "    </tr>\n",
              "    <tr>\n",
              "      <th>25%</th>\n",
              "      <td>2013.000000</td>\n",
              "      <td>1.000000</td>\n",
              "      <td>3.250000</td>\n",
              "    </tr>\n",
              "    <tr>\n",
              "      <th>50%</th>\n",
              "      <td>2016.000000</td>\n",
              "      <td>1.000000</td>\n",
              "      <td>5.640000</td>\n",
              "    </tr>\n",
              "    <tr>\n",
              "      <th>75%</th>\n",
              "      <td>2018.000000</td>\n",
              "      <td>2.000000</td>\n",
              "      <td>10.892500</td>\n",
              "    </tr>\n",
              "    <tr>\n",
              "      <th>max</th>\n",
              "      <td>2022.000000</td>\n",
              "      <td>5.000000</td>\n",
              "      <td>99999.000000</td>\n",
              "    </tr>\n",
              "  </tbody>\n",
              "</table>\n",
              "</div>"
            ],
            "text/plain": [
              "              Year        owner  Selling Price\n",
              "count  5512.000000  5512.000000    5512.000000\n",
              "mean   2015.455552     1.421807    1700.984784\n",
              "std       3.927974     0.703092   11471.329530\n",
              "min    1995.000000     0.000000       1.000000\n",
              "25%    2013.000000     1.000000       3.250000\n",
              "50%    2016.000000     1.000000       5.640000\n",
              "75%    2018.000000     2.000000      10.892500\n",
              "max    2022.000000     5.000000   99999.000000"
            ]
          },
          "execution_count": 6,
          "metadata": {},
          "output_type": "execute_result"
        }
      ],
      "source": [
        "dataset.describe()"
      ]
    },
    {
      "cell_type": "markdown",
      "metadata": {
        "id": "uZMoJUJUwyRs"
      },
      "source": [
        "# Feature Enginnering"
      ]
    },
    {
      "cell_type": "code",
      "execution_count": 7,
      "metadata": {},
      "outputs": [
        {
          "name": "stdout",
          "output_type": "stream",
          "text": [
            "Categories in 'car_name' variable:      ['Jeep Compass 2.0 Longitude Option BSIV' 'Renault Duster RXZ Turbo CVT'\n",
            " 'Toyota Camry 2.5 G' ... 'Volvo XC 90 D5 Momentum BSIV'\n",
            " 'Mercedes-Benz E-Class E250 Edition E' 'BMW M Series M4 Coupe']\n",
            "Categories in 'fuel_type' variable:   ['Diesel' 'Petrol' 'Cng' 'Electric' 'Lpg']\n",
            "Categories in'transmission' variable: ['Manual' 'Automatic']\n"
          ]
        }
      ],
      "source": [
        "print(\"Categories in 'car_name' variable:     \",end=\" \" )\n",
        "print(dataset['car_name'].unique())\n",
        "\n",
        "print(\"Categories in 'fuel_type' variable:  \",end=\" \")\n",
        "print(dataset['fuel_type'].unique())\n",
        "\n",
        "print(\"Categories in'transmission' variable:\",end=\" \" )\n",
        "print(dataset['transmission'].unique())\n",
        "\n"
      ]
    },
    {
      "cell_type": "code",
      "execution_count": 36,
      "metadata": {},
      "outputs": [
        {
          "name": "stdout",
          "output_type": "stream",
          "text": [
            "We have 6 numerical features : ['car_name', 'Year', 'fuel_type', 'transmission', 'owner', 'Selling Price']\n",
            "\n",
            "We have 0 categorical features : []\n"
          ]
        }
      ],
      "source": [
        "# define numerical & categorical columns\n",
        "numeric_features = [feature for feature in dataset.columns if dataset[feature].dtype != 'O']\n",
        "categorical_features = [feature for feature in dataset.columns if dataset[feature].dtype == 'O']\n",
        "\n",
        "# print columns\n",
        "print('We have {} numerical features : {}'.format(len(numeric_features), numeric_features))\n",
        "print('\\nWe have {} categorical features : {}'.format(len(categorical_features), categorical_features))"
      ]
    },
    {
      "cell_type": "code",
      "execution_count": 11,
      "metadata": {
        "id": "MrH5wHS0XTwH"
      },
      "outputs": [],
      "source": [
        "# Label-encoding(car_name)"
      ]
    },
    {
      "cell_type": "code",
      "execution_count": 12,
      "metadata": {
        "id": "GnSHqa3TXTsQ"
      },
      "outputs": [],
      "source": [
        "from sklearn.preprocessing import LabelEncoder"
      ]
    },
    {
      "cell_type": "code",
      "execution_count": 13,
      "metadata": {
        "id": "fpNhgR15XTpc"
      },
      "outputs": [],
      "source": [
        "car_name_lb = LabelEncoder()\n",
        "dataset['car_name']=car_name_lb.fit_transform(dataset['car_name'])\n"
      ]
    },
    {
      "cell_type": "code",
      "execution_count": 14,
      "metadata": {
        "id": "-CNZcymDX_aa"
      },
      "outputs": [],
      "source": [
        "# Label-encoding(fuel_type)"
      ]
    },
    {
      "cell_type": "code",
      "execution_count": 15,
      "metadata": {
        "id": "rSJTd3r8YUtz"
      },
      "outputs": [],
      "source": [
        "fuel_type_lb = LabelEncoder()\n",
        "dataset['fuel_type']=fuel_type_lb.fit_transform(dataset['fuel_type'])"
      ]
    },
    {
      "cell_type": "code",
      "execution_count": 16,
      "metadata": {
        "id": "ssfoNjCWYgNX"
      },
      "outputs": [],
      "source": [
        "# Label-encoding(transmission)"
      ]
    },
    {
      "cell_type": "code",
      "execution_count": 17,
      "metadata": {
        "id": "lZqUR1TFYrvD"
      },
      "outputs": [],
      "source": [
        "transmission_lb = LabelEncoder()\n",
        "dataset['transmission']=transmission_lb.fit_transform(dataset['transmission'])"
      ]
    },
    {
      "cell_type": "code",
      "execution_count": 18,
      "metadata": {
        "colab": {
          "base_uri": "https://localhost:8080/",
          "height": 206
        },
        "id": "Mn3jjgeDYyv5",
        "outputId": "4e402827-f85d-4fd4-f7dc-a7a3a6f3e289"
      },
      "outputs": [
        {
          "data": {
            "text/html": [
              "<div>\n",
              "<style scoped>\n",
              "    .dataframe tbody tr th:only-of-type {\n",
              "        vertical-align: middle;\n",
              "    }\n",
              "\n",
              "    .dataframe tbody tr th {\n",
              "        vertical-align: top;\n",
              "    }\n",
              "\n",
              "    .dataframe thead th {\n",
              "        text-align: right;\n",
              "    }\n",
              "</style>\n",
              "<table border=\"1\" class=\"dataframe\">\n",
              "  <thead>\n",
              "    <tr style=\"text-align: right;\">\n",
              "      <th></th>\n",
              "      <th>car_name</th>\n",
              "      <th>Year</th>\n",
              "      <th>fuel_type</th>\n",
              "      <th>transmission</th>\n",
              "      <th>owner</th>\n",
              "      <th>Selling Price</th>\n",
              "    </tr>\n",
              "  </thead>\n",
              "  <tbody>\n",
              "    <tr>\n",
              "      <th>0</th>\n",
              "      <td>743</td>\n",
              "      <td>2017</td>\n",
              "      <td>1</td>\n",
              "      <td>1</td>\n",
              "      <td>1</td>\n",
              "      <td>10.03</td>\n",
              "    </tr>\n",
              "    <tr>\n",
              "      <th>1</th>\n",
              "      <td>1444</td>\n",
              "      <td>2021</td>\n",
              "      <td>4</td>\n",
              "      <td>0</td>\n",
              "      <td>1</td>\n",
              "      <td>12.83</td>\n",
              "    </tr>\n",
              "    <tr>\n",
              "      <th>2</th>\n",
              "      <td>1706</td>\n",
              "      <td>2016</td>\n",
              "      <td>4</td>\n",
              "      <td>0</td>\n",
              "      <td>1</td>\n",
              "      <td>16.40</td>\n",
              "    </tr>\n",
              "    <tr>\n",
              "      <th>3</th>\n",
              "      <td>385</td>\n",
              "      <td>2018</td>\n",
              "      <td>4</td>\n",
              "      <td>0</td>\n",
              "      <td>1</td>\n",
              "      <td>7.77</td>\n",
              "    </tr>\n",
              "    <tr>\n",
              "      <th>4</th>\n",
              "      <td>1831</td>\n",
              "      <td>2016</td>\n",
              "      <td>4</td>\n",
              "      <td>1</td>\n",
              "      <td>1</td>\n",
              "      <td>5.15</td>\n",
              "    </tr>\n",
              "  </tbody>\n",
              "</table>\n",
              "</div>"
            ],
            "text/plain": [
              "   car_name  Year  fuel_type  transmission  owner  Selling Price\n",
              "0       743  2017          1             1      1          10.03\n",
              "1      1444  2021          4             0      1          12.83\n",
              "2      1706  2016          4             0      1          16.40\n",
              "3       385  2018          4             0      1           7.77\n",
              "4      1831  2016          4             1      1           5.15"
            ]
          },
          "execution_count": 18,
          "metadata": {},
          "output_type": "execute_result"
        }
      ],
      "source": [
        "dataset.head()"
      ]
    },
    {
      "cell_type": "code",
      "execution_count": 19,
      "metadata": {
        "colab": {
          "base_uri": "https://localhost:8080/",
          "height": 527
        },
        "id": "zQyXamHNd8Bl",
        "outputId": "9ea35cd0-e12b-4f54-dc01-6b2a648a01bb"
      },
      "outputs": [
        {
          "data": {
            "text/plain": [
              "<Axes: >"
            ]
          },
          "execution_count": 19,
          "metadata": {},
          "output_type": "execute_result"
        },
        {
          "data": {
            "image/png": "[encoded data removed]",
            "text/plain": [
              "<Figure size 640x480 with 2 Axes>"
            ]
          },
          "metadata": {},
          "output_type": "display_data"
        }
      ],
      "source": [
        "sns.heatmap(dataset.corr(),annot=True)"
      ]
    },
    {
      "cell_type": "code",
      "execution_count": 20,
      "metadata": {
        "id": "-6ZjL1NIZiyh"
      },
      "outputs": [],
      "source": [
        "#input and output"
      ]
    },
    {
      "cell_type": "code",
      "execution_count": 21,
      "metadata": {
        "id": "1Q_bL9rLZzFM"
      },
      "outputs": [],
      "source": [
        "input=dataset.iloc[:,:-1]\n",
        "output= dataset['Selling Price']"
      ]
    },
    {
      "cell_type": "markdown",
      "metadata": {
        "id": "ABxZtvUAxQQ9"
      },
      "source": [
        "# Standard Scalling"
      ]
    },
    {
      "cell_type": "code",
      "execution_count": 22,
      "metadata": {
        "id": "WQEfXudfZ89S"
      },
      "outputs": [],
      "source": [
        "# input scaling"
      ]
    },
    {
      "cell_type": "code",
      "execution_count": 23,
      "metadata": {
        "id": "hWBjWclpcVWp"
      },
      "outputs": [],
      "source": [
        "from sklearn.preprocessing import StandardScaler\n",
        "import pandas as pd\n",
        "import numpy as np"
      ]
    },
    {
      "cell_type": "code",
      "execution_count": 24,
      "metadata": {
        "id": "cj0N3x9gco22"
      },
      "outputs": [],
      "source": [
        "ss = StandardScaler()\n",
        "input = pd.DataFrame(ss.fit_transform(input),columns=input.columns)"
      ]
    },
    {
      "cell_type": "code",
      "execution_count": 25,
      "metadata": {
        "colab": {
          "base_uri": "https://localhost:8080/",
          "height": 423
        },
        "id": "1IO8sn85csem",
        "outputId": "649b999b-dc5f-4c39-8b8f-e52c321470ec"
      },
      "outputs": [
        {
          "data": {
            "text/html": [
              "<div>\n",
              "<style scoped>\n",
              "    .dataframe tbody tr th:only-of-type {\n",
              "        vertical-align: middle;\n",
              "    }\n",
              "\n",
              "    .dataframe tbody tr th {\n",
              "        vertical-align: top;\n",
              "    }\n",
              "\n",
              "    .dataframe thead th {\n",
              "        text-align: right;\n",
              "    }\n",
              "</style>\n",
              "<table border=\"1\" class=\"dataframe\">\n",
              "  <thead>\n",
              "    <tr style=\"text-align: right;\">\n",
              "      <th></th>\n",
              "      <th>car_name</th>\n",
              "      <th>Year</th>\n",
              "      <th>fuel_type</th>\n",
              "      <th>transmission</th>\n",
              "      <th>owner</th>\n",
              "    </tr>\n",
              "  </thead>\n",
              "  <tbody>\n",
              "    <tr>\n",
              "      <th>0</th>\n",
              "      <td>-0.336744</td>\n",
              "      <td>0.393228</td>\n",
              "      <td>-1.068243</td>\n",
              "      <td>0.625473</td>\n",
              "      <td>-0.599986</td>\n",
              "    </tr>\n",
              "    <tr>\n",
              "      <th>1</th>\n",
              "      <td>1.020841</td>\n",
              "      <td>1.411657</td>\n",
              "      <td>0.918538</td>\n",
              "      <td>-1.598790</td>\n",
              "      <td>-0.599986</td>\n",
              "    </tr>\n",
              "    <tr>\n",
              "      <th>2</th>\n",
              "      <td>1.528240</td>\n",
              "      <td>0.138621</td>\n",
              "      <td>0.918538</td>\n",
              "      <td>-1.598790</td>\n",
              "      <td>-0.599986</td>\n",
              "    </tr>\n",
              "    <tr>\n",
              "      <th>3</th>\n",
              "      <td>-1.030061</td>\n",
              "      <td>0.647835</td>\n",
              "      <td>0.918538</td>\n",
              "      <td>-1.598790</td>\n",
              "      <td>-0.599986</td>\n",
              "    </tr>\n",
              "    <tr>\n",
              "      <th>4</th>\n",
              "      <td>1.770320</td>\n",
              "      <td>0.138621</td>\n",
              "      <td>0.918538</td>\n",
              "      <td>0.625473</td>\n",
              "      <td>-0.599986</td>\n",
              "    </tr>\n",
              "    <tr>\n",
              "      <th>...</th>\n",
              "      <td>...</td>\n",
              "      <td>...</td>\n",
              "      <td>...</td>\n",
              "      <td>...</td>\n",
              "      <td>...</td>\n",
              "    </tr>\n",
              "    <tr>\n",
              "      <th>5507</th>\n",
              "      <td>-1.616862</td>\n",
              "      <td>0.647835</td>\n",
              "      <td>-1.068243</td>\n",
              "      <td>-1.598790</td>\n",
              "      <td>-0.599986</td>\n",
              "    </tr>\n",
              "    <tr>\n",
              "      <th>5508</th>\n",
              "      <td>-1.622672</td>\n",
              "      <td>-0.115987</td>\n",
              "      <td>0.918538</td>\n",
              "      <td>-1.598790</td>\n",
              "      <td>0.822432</td>\n",
              "    </tr>\n",
              "    <tr>\n",
              "      <th>5509</th>\n",
              "      <td>-0.381286</td>\n",
              "      <td>-0.625201</td>\n",
              "      <td>-1.068243</td>\n",
              "      <td>-1.598790</td>\n",
              "      <td>0.822432</td>\n",
              "    </tr>\n",
              "    <tr>\n",
              "      <th>5510</th>\n",
              "      <td>-1.632356</td>\n",
              "      <td>-0.115987</td>\n",
              "      <td>-1.068243</td>\n",
              "      <td>-1.598790</td>\n",
              "      <td>2.244850</td>\n",
              "    </tr>\n",
              "    <tr>\n",
              "      <th>5511</th>\n",
              "      <td>-1.655595</td>\n",
              "      <td>0.393228</td>\n",
              "      <td>-1.068243</td>\n",
              "      <td>-1.598790</td>\n",
              "      <td>0.822432</td>\n",
              "    </tr>\n",
              "  </tbody>\n",
              "</table>\n",
              "<p>5512 rows × 5 columns</p>\n",
              "</div>"
            ],
            "text/plain": [
              "      car_name      Year  fuel_type  transmission     owner\n",
              "0    -0.336744  0.393228  -1.068243      0.625473 -0.599986\n",
              "1     1.020841  1.411657   0.918538     -1.598790 -0.599986\n",
              "2     1.528240  0.138621   0.918538     -1.598790 -0.599986\n",
              "3    -1.030061  0.647835   0.918538     -1.598790 -0.599986\n",
              "4     1.770320  0.138621   0.918538      0.625473 -0.599986\n",
              "...        ...       ...        ...           ...       ...\n",
              "5507 -1.616862  0.647835  -1.068243     -1.598790 -0.599986\n",
              "5508 -1.622672 -0.115987   0.918538     -1.598790  0.822432\n",
              "5509 -0.381286 -0.625201  -1.068243     -1.598790  0.822432\n",
              "5510 -1.632356 -0.115987  -1.068243     -1.598790  2.244850\n",
              "5511 -1.655595  0.393228  -1.068243     -1.598790  0.822432\n",
              "\n",
              "[5512 rows x 5 columns]"
            ]
          },
          "execution_count": 25,
          "metadata": {},
          "output_type": "execute_result"
        }
      ],
      "source": [
        "input"
      ]
    },
    {
      "cell_type": "code",
      "execution_count": 26,
      "metadata": {
        "id": "bqogD1n1dSjP"
      },
      "outputs": [],
      "source": [
        "# tain test"
      ]
    },
    {
      "cell_type": "code",
      "execution_count": 27,
      "metadata": {
        "id": "uv0JZEjNdVPm"
      },
      "outputs": [],
      "source": [
        "from sklearn.model_selection import train_test_split"
      ]
    },
    {
      "cell_type": "code",
      "execution_count": 28,
      "metadata": {
        "id": "R2mVn_3kdZdB"
      },
      "outputs": [],
      "source": [
        "X_train,X_test,y_train,y_test = train_test_split(input,output,test_size=0.2,random_state=0)"
      ]
    },
    {
      "cell_type": "code",
      "execution_count": 29,
      "metadata": {
        "id": "2UyJzeeUdexO"
      },
      "outputs": [],
      "source": [
        "from sklearn.linear_model import LinearRegression , Lasso , Ridge , ElasticNet\n",
        "from sklearn.tree import DecisionTreeRegressor\n",
        "from sklearn.ensemble import RandomForestRegressor\n",
        "from sklearn.svm import SVR\n",
        "from sklearn.neighbors import KNeighborsRegressor\n",
        "from sklearn.metrics import r2_score , mean_squared_error"
      ]
    },
    {
      "cell_type": "code",
      "execution_count": 30,
      "metadata": {
        "colab": {
          "base_uri": "https://localhost:8080/"
        },
        "id": "D6kAhYHSigM5",
        "outputId": "d3fe6d53-0f09-49c7-f535-9dc77f0b13bb"
      },
      "outputs": [
        {
          "name": "stdout",
          "output_type": "stream",
          "text": [
            "\n",
            "Model Comparison Results:\n",
            "====================================================================================================\n",
            "Best performing model: Random Forest\n",
            "Best Test Score: 57.21%\n",
            "Best R2 score (test): 0.5721\n",
            "\n",
            "Detailed Results:\n",
            "----------------------------------------------------------------------------------------------------\n",
            "            Model  Train Score (%)  Test Score (%)  Train R2  Test R2  Train RMSE  Test RMSE\n",
            "    Random Forest            85.93           57.21      0.86     0.57     4355.27    7119.29\n",
            "              KNN            43.07           24.20      0.43     0.24     8761.97    9475.44\n",
            "            Lasso            11.13            8.81      0.11     0.09    10947.10   10393.38\n",
            "            Ridge            11.13            8.80      0.11     0.09    10947.10   10393.45\n",
            "Linear Regression            11.13            8.80      0.11     0.09    10947.10   10393.48\n",
            "       ElasticNet            10.08            8.41      0.10     0.08    11011.15   10415.85\n",
            "    Decision Tree            94.86            4.05      0.95     0.04     2632.83   10660.82\n",
            "              SVR            -2.22           -2.06     -0.02    -0.02    11740.56   10995.31\n",
            "====================================================================================================\n"
          ]
        }
      ],
      "source": [
        "def compare_regression_models(X_train, X_test, y_train, y_test):\n",
        "    \"\"\"\n",
        "    Compare multiple regression models using pre-split data.\n",
        "    \"\"\"\n",
        "    # Scale the features\n",
        "    scaler = StandardScaler()\n",
        "    X_train_scaled = scaler.fit_transform(X_train)\n",
        "    X_test_scaled = scaler.transform(X_test)\n",
        "\n",
        "    # Initialize models\n",
        "    models = {\n",
        "        'Linear Regression': LinearRegression(),\n",
        "        'Lasso': Lasso(),\n",
        "        'Ridge': Ridge(),\n",
        "        'ElasticNet': ElasticNet(),\n",
        "        'Decision Tree': DecisionTreeRegressor(),\n",
        "        'Random Forest': RandomForestRegressor(),\n",
        "        'SVR': SVR(),\n",
        "        'KNN': KNeighborsRegressor()\n",
        "    }\n",
        "\n",
        "    results = []\n",
        "\n",
        "    for name, model in models.items():\n",
        "        try:\n",
        "            # Train and predict\n",
        "            model.fit(X_train_scaled, y_train)\n",
        "            train_pred = model.predict(X_train_scaled)\n",
        "            test_pred = model.predict(X_test_scaled)\n",
        "\n",
        "            # Calculate metrics\n",
        "            train_r2 = r2_score(y_train, train_pred)\n",
        "            test_r2 = r2_score(y_test, test_pred)\n",
        "            train_rmse = np.sqrt(mean_squared_error(y_train, train_pred))\n",
        "            test_rmse = np.sqrt(mean_squared_error(y_test, test_pred))\n",
        "\n",
        "            # Use model's built-in score method for accuracy\n",
        "            train_score = model.score(X_train_scaled, y_train) * 100\n",
        "            test_score = model.score(X_test_scaled, y_test) * 100\n",
        "\n",
        "            results.append({\n",
        "                'Model': name,\n",
        "                'Train Score (%)': train_score,\n",
        "                'Test Score (%)': test_score,\n",
        "                'Train R2': train_r2,\n",
        "                'Test R2': test_r2,\n",
        "                'Train RMSE': train_rmse,\n",
        "                'Test RMSE': test_rmse\n",
        "            })\n",
        "\n",
        "        except Exception as e:\n",
        "            print(f\"Error with {name}: {str(e)}\")\n",
        "            continue\n",
        "\n",
        "    results_df = pd.DataFrame(results)\n",
        "    return results_df.sort_values('Test Score (%)', ascending=False)\n",
        "\n",
        "# Use this function with your existing splits\n",
        "results = compare_regression_models(X_train, X_test, y_train, y_test)\n",
        "\n",
        "# Print results\n",
        "print(\"\\nModel Comparison Results:\")\n",
        "print(\"=\" * 100)\n",
        "print(f\"Best performing model: {results.iloc[0]['Model']}\")\n",
        "print(f\"Best Test Score: {results.iloc[0]['Test Score (%)']:.2f}%\")\n",
        "print(f\"Best R2 score (test): {results.iloc[0]['Test R2']:.4f}\")\n",
        "print(\"\\nDetailed Results:\")\n",
        "print(\"-\" * 100)\n",
        "print(results.to_string(index=False, float_format=lambda x: '{:.2f}'.format(x)))\n",
        "print(\"=\" * 100)"
      ]
    },
    {
      "cell_type": "code",
      "execution_count": 38,
      "metadata": {},
      "outputs": [
        {
          "name": "stdout",
          "output_type": "stream",
          "text": [
            " Accuracy of the model is 56.45\n"
          ]
        }
      ],
      "source": [
        "random = RandomForestRegressor()\n",
        "random = random.fit(X_train, y_train)\n",
        "y_pred = random.predict(X_test)\n",
        "score = r2_score(y_test, y_pred)*100\n",
        "print(\" Accuracy of the model is %.2f\" %score)"
      ]
    },
    {
      "cell_type": "code",
      "execution_count": 40,
      "metadata": {},
      "outputs": [
        {
          "data": {
            "text/plain": [
              "<Axes: xlabel='Selling Price', ylabel='Predicted Price'>"
            ]
          },
          "execution_count": 40,
          "metadata": {},
          "output_type": "execute_result"
        },
        {
          "data": {
            "image/png": "[encoded data removed]",
            "text/plain": [
              "<Figure size 640x480 with 1 Axes>"
            ]
          },
          "metadata": {},
          "output_type": "display_data"
        }
      ],
      "source": [
        "plt.scatter(y_test, y_pred)\n",
        "plt.xlabel('Actual Price')\n",
        "plt.ylabel('Predicted Price')   \n",
        "sns.regplot(x=y_test,y=y_pred,ci=None,color='red')"
      ]
    },
    {
      "cell_type": "code",
      "execution_count": 41,
      "metadata": {},
      "outputs": [
        {
          "data": {
            "text/html": [
              "<div>\n",
              "<style scoped>\n",
              "    .dataframe tbody tr th:only-of-type {\n",
              "        vertical-align: middle;\n",
              "    }\n",
              "\n",
              "    .dataframe tbody tr th {\n",
              "        vertical-align: top;\n",
              "    }\n",
              "\n",
              "    .dataframe thead th {\n",
              "        text-align: right;\n",
              "    }\n",
              "</style>\n",
              "<table border=\"1\" class=\"dataframe\">\n",
              "  <thead>\n",
              "    <tr style=\"text-align: right;\">\n",
              "      <th></th>\n",
              "      <th>Actual Value</th>\n",
              "      <th>Predicted Value</th>\n",
              "      <th>Difference</th>\n",
              "    </tr>\n",
              "  </thead>\n",
              "  <tbody>\n",
              "    <tr>\n",
              "      <th>5245</th>\n",
              "      <td>42.00</td>\n",
              "      <td>19.881500</td>\n",
              "      <td>22.118500</td>\n",
              "    </tr>\n",
              "    <tr>\n",
              "      <th>3558</th>\n",
              "      <td>2.79</td>\n",
              "      <td>7.127600</td>\n",
              "      <td>-4.337600</td>\n",
              "    </tr>\n",
              "    <tr>\n",
              "      <th>405</th>\n",
              "      <td>27.25</td>\n",
              "      <td>19.279430</td>\n",
              "      <td>7.970570</td>\n",
              "    </tr>\n",
              "    <tr>\n",
              "      <th>4446</th>\n",
              "      <td>4.00</td>\n",
              "      <td>1107.788620</td>\n",
              "      <td>-1103.788620</td>\n",
              "    </tr>\n",
              "    <tr>\n",
              "      <th>142</th>\n",
              "      <td>7.25</td>\n",
              "      <td>8.228508</td>\n",
              "      <td>-0.978508</td>\n",
              "    </tr>\n",
              "    <tr>\n",
              "      <th>...</th>\n",
              "      <td>...</td>\n",
              "      <td>...</td>\n",
              "      <td>...</td>\n",
              "    </tr>\n",
              "    <tr>\n",
              "      <th>726</th>\n",
              "      <td>6.75</td>\n",
              "      <td>12.383500</td>\n",
              "      <td>-5.633500</td>\n",
              "    </tr>\n",
              "    <tr>\n",
              "      <th>3772</th>\n",
              "      <td>6.25</td>\n",
              "      <td>5.727968</td>\n",
              "      <td>0.522032</td>\n",
              "    </tr>\n",
              "    <tr>\n",
              "      <th>3508</th>\n",
              "      <td>17.77</td>\n",
              "      <td>17.304285</td>\n",
              "      <td>0.465715</td>\n",
              "    </tr>\n",
              "    <tr>\n",
              "      <th>1800</th>\n",
              "      <td>16.00</td>\n",
              "      <td>12.944767</td>\n",
              "      <td>3.055233</td>\n",
              "    </tr>\n",
              "    <tr>\n",
              "      <th>3684</th>\n",
              "      <td>1.95</td>\n",
              "      <td>1.987085</td>\n",
              "      <td>-0.037085</td>\n",
              "    </tr>\n",
              "  </tbody>\n",
              "</table>\n",
              "<p>1103 rows × 3 columns</p>\n",
              "</div>"
            ],
            "text/plain": [
              "      Actual Value  Predicted Value   Difference\n",
              "5245         42.00        19.881500    22.118500\n",
              "3558          2.79         7.127600    -4.337600\n",
              "405          27.25        19.279430     7.970570\n",
              "4446          4.00      1107.788620 -1103.788620\n",
              "142           7.25         8.228508    -0.978508\n",
              "...            ...              ...          ...\n",
              "726           6.75        12.383500    -5.633500\n",
              "3772          6.25         5.727968     0.522032\n",
              "3508         17.77        17.304285     0.465715\n",
              "1800         16.00        12.944767     3.055233\n",
              "3684          1.95         1.987085    -0.037085\n",
              "\n",
              "[1103 rows x 3 columns]"
            ]
          },
          "execution_count": 41,
          "metadata": {},
          "output_type": "execute_result"
        }
      ],
      "source": [
        "pred_df=pd.DataFrame({'Actual Value':y_test,'Predicted Value':y_pred,'Difference':y_test-y_pred})\n",
        "pred_df\n"
      ]
    }
  ],
  "metadata": {
    "colab": {
      "provenance": []
    },
    "kernelspec": {
      "display_name": "venv",
      "language": "python",
      "name": "python3"
    },
    "language_info": {
      "codemirror_mode": {
        "name": "ipython",
        "version": 3
      },
      "file_extension": ".py",
      "mimetype": "text/x-python",
      "name": "python",
      "nbconvert_exporter": "python",
      "pygments_lexer": "ipython3",
      "version": "3.9.13"
    }
  },
  "nbformat": 4,
  "nbformat_minor": 0
}
